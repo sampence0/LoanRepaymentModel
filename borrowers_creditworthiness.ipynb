{
 "cells": [
  {
   "cell_type": "markdown",
   "id": "beca88c3",
   "metadata": {},
   "source": [
    "# E402 Final Project"
   ]
  },
  {
   "cell_type": "markdown",
   "id": "596f2075",
   "metadata": {},
   "source": [
    "This Machine Learning model takes borrower characteristics into account on a credit application and predicts whether or not the applicant will default on their loan. The model is trained/tested on a dataset of 307k+ instances, using features including but not limited to: Amount of Credit, Income, Realty Status, and more."
   ]
  },
  {
   "cell_type": "code",
   "execution_count": 14,
   "id": "da6fb677",
   "metadata": {},
   "outputs": [],
   "source": [
    "import pandas as pd\n",
    "import numpy as np\n",
    "import math\n",
    "from sklearn.preprocessing import StandardScaler\n",
    "from sklearn.ensemble import RandomForestClassifier\n",
    "from sklearn.model_selection import train_test_split\n",
    "from sklearn.metrics import accuracy_score, confusion_matrix, precision_score, recall_score, f1_score"
   ]
  },
  {
   "cell_type": "code",
   "execution_count": 15,
   "id": "b333a939",
   "metadata": {
    "scrolled": true
   },
   "outputs": [
    {
     "name": "stdout",
     "output_type": "stream",
     "text": [
      "       CODE_GENDER  FLAG_OWN_CAR  FLAG_OWN_REALTY  CNT_CHILDREN  \\\n",
      "0                0             0                1             0   \n",
      "1                1             0                1             0   \n",
      "2                1             1                1             0   \n",
      "3                0             0                1             2   \n",
      "4                1             1                0             1   \n",
      "...            ...           ...              ...           ...   \n",
      "48739            0             0                1             0   \n",
      "48740            0             0                0             2   \n",
      "48741            0             1                1             1   \n",
      "48742            1             0                0             0   \n",
      "48743            0             1                0             0   \n",
      "\n",
      "       AMT_INCOME_TOTAL  AMT_CREDIT  \n",
      "0              135000.0    568800.0  \n",
      "1               99000.0    222768.0  \n",
      "2              202500.0    663264.0  \n",
      "3              315000.0   1575000.0  \n",
      "4              180000.0    625500.0  \n",
      "...                 ...         ...  \n",
      "48739          121500.0    412560.0  \n",
      "48740          157500.0    622413.0  \n",
      "48741          202500.0    315000.0  \n",
      "48742          225000.0    450000.0  \n",
      "48743          135000.0    312768.0  \n",
      "\n",
      "[48744 rows x 6 columns]\n"
     ]
    }
   ],
   "source": [
    "df_test = pd.read_csv('/Users/sampence/Documents/IU Bloom/E402 - Computational Methods in Macro/Final Project/home-credit-default-risk/application_test.csv')\n",
    "df_test = df_test[['CODE_GENDER','FLAG_OWN_CAR','FLAG_OWN_REALTY','CNT_CHILDREN','AMT_INCOME_TOTAL','AMT_CREDIT']]\n",
    "df_train = pd.read_csv('/Users/sampence/Documents/IU Bloom/E402 - Computational Methods in Macro/Final Project/home-credit-default-risk/application_train.csv')\n",
    "\n",
    "\n",
    "mapping = {'Y': 1, 'N': 0, 'M': 1, 'F': 0}\n",
    "cols = ['CODE_GENDER', 'FLAG_OWN_CAR', 'FLAG_OWN_REALTY']\n",
    "df_test[cols] = df_test[cols].applymap(mapping.get)\n",
    "df_test = df_test[['CODE_GENDER','FLAG_OWN_CAR','FLAG_OWN_REALTY','CNT_CHILDREN','AMT_INCOME_TOTAL','AMT_CREDIT']]\n",
    "\n",
    "boolean = df_test.isna()\n",
    "true_rows = boolean[boolean.any(axis=1)]\n",
    "print(df_test)"
   ]
  },
  {
   "cell_type": "code",
   "execution_count": 42,
   "id": "5ff971b5",
   "metadata": {},
   "outputs": [
    {
     "name": "stdout",
     "output_type": "stream",
     "text": [
      "CPU times: user 4 µs, sys: 1 µs, total: 5 µs\n",
      "Wall time: 10 µs\n"
     ]
    }
   ],
   "source": [
    "class CreditDefault():\n",
    "    \"\"\"\n",
    "    This class takes 5 or 6 features from a loan applicant and uses a machine learning model trained on over \n",
    "    307,000 entries. This model will make a prediction of whether or not the credit applicant is likely to repay\n",
    "    their loans.\n",
    "    \"\"\"\n",
    "    \n",
    "    def __init__(self):\n",
    "        \n",
    "        # Load in training dataset from Home Credit Group\n",
    "        self.df_train = pd.read_csv('/Users/sampence/Documents/IU Bloom/E402 - Computational Methods in Macro/Final Project/home-credit-default-risk/application_train.csv')\n",
    "        \n",
    "        # Convert all binary values to 1 and 0 \n",
    "        mapping = {'Y': 1, 'N': 0, 'M': 1, 'F': 0}\n",
    "        cols = ['CODE_GENDER', 'FLAG_OWN_CAR', 'FLAG_OWN_REALTY']\n",
    "        self.df_train[cols] = self.df_train[cols].applymap(mapping.get)\n",
    "\n",
    "        # Label for targeting\n",
    "        self.label = np.where(self.df_train['TARGET'] == 1, 1, 0)\n",
    "        \n",
    "        # Feature Selection\n",
    "        self.train_features = self.df_train[['CODE_GENDER','FLAG_OWN_CAR','FLAG_OWN_REALTY','CNT_CHILDREN','AMT_INCOME_TOTAL','AMT_CREDIT']]\n",
    "        # -- Fill NA values in gender with median value [0] -- #\n",
    "        self.train_features.loc[[35657, 38566, 83382, 189640], 'CODE_GENDER'] = 0\n",
    "        \n",
    "        # Scaling features to Mean = 0 and Std. Dev = 1\n",
    "        scaler = StandardScaler()\n",
    "        self.train_features = scaler.fit_transform(self.train_features)\n",
    "        \n",
    "         # Create a RandomForestClassifier to fit on the training data.\n",
    "        self.model = RandomForestClassifier(n_estimators=10, random_state=40)\n",
    "        \n",
    "        # Split the data into training and validation sets\n",
    "        X_train, X_val, y_train, y_val = train_test_split(self.train_features, self.label, test_size=0.3, random_state=42)\n",
    "\n",
    "        # Train your model on the training set\n",
    "        self.model.fit(X_train, y_train)\n",
    "\n",
    "        # Make predictions on the validation set\n",
    "        self.y_pred = self.model.predict(X_val)\n",
    "\n",
    "        # Evaluate the performance of your model on the validation set\n",
    "        self.accuracy = accuracy_score(y_val, self.y_pred)\n",
    "        self.precision = precision_score(y_val, self.y_pred)\n",
    "        self.recall = recall_score(y_val, self.y_pred)\n",
    "        self.f1 = f1_score(y_val, self.y_pred)\n",
    "        self.conf_matrix = confusion_matrix(y_val, self.y_pred)\n",
    "\n",
    "        \n",
    "    def predict(self, X_test):\n",
    "        \"\"\"\n",
    "        Predicts the loan repayment status of a set of loan applicants.\n",
    "\n",
    "        Args:\n",
    "            X_test (pandas.DataFrame): A DataFrame containing the loan applicant information to be predicted.\n",
    "        \n",
    "        Returns:\n",
    "            numpy.ndarray: An array of binary predictions for each loan applicant in X_test.\n",
    "        \"\"\"\n",
    "        \n",
    "        # Feature Selection\n",
    "        self.test_features = X_test[['CODE_GENDER','FLAG_OWN_CAR','FLAG_OWN_REALTY','CNT_CHILDREN','AMT_INCOME_TOTAL','AMT_CREDIT']]\n",
    "\n",
    "        # Scaling features to Mean = 0 and Std. Dev = 1\n",
    "        scaler = StandardScaler()\n",
    "        self.test_features = scaler.fit_transform(self.test_features)\n",
    "        \n",
    "        # Make predictions on test set\n",
    "        self.predictions = self.model.predict(self.test_features)\n",
    "        \n",
    "        # Return predictions\n",
    "        return self.predictions\n",
    "\n",
    "%time"
   ]
  },
  {
   "cell_type": "code",
   "execution_count": null,
   "id": "d2d8d09c",
   "metadata": {},
   "outputs": [],
   "source": [
    "# 'predictions' is a numpy array: Change to pandas DataFrame\n",
    "df_predictions = pd.DataFrame({'prediction': predictions})\n",
    "\n",
    "# Keep the rows where prediction is 1:\n",
    "df_predictions_payment_troubles = df_predictions[df_predictions['prediction'] == 1]\n",
    "\n",
    "df_predictions_payment_troubles"
   ]
  },
  {
   "cell_type": "code",
   "execution_count": 45,
   "id": "cee57e89",
   "metadata": {},
   "outputs": [
    {
     "name": "stdout",
     "output_type": "stream",
     "text": [
      "CPU times: user 2 µs, sys: 1e+03 ns, total: 3 µs\n",
      "Wall time: 6.2 µs\n"
     ]
    }
   ],
   "source": [
    "obj = CreditDefault()\n",
    "obj.accuracy\n",
    "%time"
   ]
  },
  {
   "cell_type": "code",
   "execution_count": 46,
   "id": "048af7b1",
   "metadata": {},
   "outputs": [
    {
     "data": {
      "text/plain": [
       "0.049457788588223375"
      ]
     },
     "execution_count": 46,
     "metadata": {},
     "output_type": "execute_result"
    }
   ],
   "source": [
    "obj.f1"
   ]
  },
  {
   "cell_type": "code",
   "execution_count": 47,
   "id": "e60a88a9",
   "metadata": {},
   "outputs": [
    {
     "data": {
      "text/plain": [
       "array([[82631,  2210],\n",
       "       [ 7169,   244]])"
      ]
     },
     "execution_count": 47,
     "metadata": {},
     "output_type": "execute_result"
    }
   ],
   "source": [
    "obj.conf_matrix"
   ]
  },
  {
   "cell_type": "code",
   "execution_count": null,
   "id": "d128aab3",
   "metadata": {},
   "outputs": [],
   "source": []
  }
 ],
 "metadata": {
  "kernelspec": {
   "display_name": "Python 3 (ipykernel)",
   "language": "python",
   "name": "python3"
  },
  "language_info": {
   "codemirror_mode": {
    "name": "ipython",
    "version": 3
   },
   "file_extension": ".py",
   "mimetype": "text/x-python",
   "name": "python",
   "nbconvert_exporter": "python",
   "pygments_lexer": "ipython3",
   "version": "3.9.7"
  }
 },
 "nbformat": 4,
 "nbformat_minor": 5
}
