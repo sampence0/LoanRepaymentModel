{
 "cells": [
  {
   "cell_type": "markdown",
   "id": "beca88c3",
   "metadata": {},
   "source": [
    "# E402 Final Project"
   ]
  },
  {
   "cell_type": "markdown",
   "id": "596f2075",
   "metadata": {},
   "source": [
    "This code is a machine learning model built to predict loan default risk using historical data from a financial institution. The model is built using a random forest classifier, and includes a number of data preprocessing and feature engineering steps.\n",
    "\n",
    "The code begins by loading in the training dataset, which includes information on applicants' personal and financial characteristics. The data is then preprocessed and cleaned, including imputing missing values, encoding categorical variables, and scaling the data. The resulting dataset is then split into training and validation sets, and a random forest classifier is fit on the training set. Once the model is trained, it is used to make predictions on the validation set, and various performance metrics are calculated, including accuracy, precision, recall, and F1 score. Finally, the model is used to predict the likelihood of loan defaults on a separate test dataset, and the results are returned as a pandas dataframe. Overall, this code aims to provide a robust and effective solution for predicting loan default risk using machine learning techniques."
   ]
  },
  {
   "cell_type": "code",
   "execution_count": 3,
   "id": "da6fb677",
   "metadata": {},
   "outputs": [],
   "source": [
    "import pandas as pd\n",
    "import numpy as np\n",
    "import math\n",
    "import warnings\n",
    "warnings.filterwarnings('ignore')\n",
    "from sklearn.preprocessing import StandardScaler\n",
    "from sklearn.ensemble import RandomForestClassifier\n",
    "from sklearn.model_selection import train_test_split\n",
    "from sklearn.metrics import accuracy_score, confusion_matrix, precision_score, recall_score, f1_score"
   ]
  },
  {
   "cell_type": "code",
   "execution_count": 24,
   "id": "5ff971b5",
   "metadata": {},
   "outputs": [],
   "source": [
    "class CreditDefaultRF():\n",
    "    \"\"\"\n",
    "    Upon initialization, this class trains a Random Forest Classifier on a dataset of 200,000+ loan applicants from \n",
    "    Home Credit Group. The model will train on 6 features: Gender, Car Ownership, Realty Status, Number of Children,\n",
    "    Income and Amount of Credit. \n",
    "    \n",
    "     NOTE: Before using this class, you must download the dataset from the Home Credit Default Risk Kaggle competition\n",
    "    (https://www.kaggle.com/c/home-credit-default-risk/data) and place the 'application_train.csv' file in a local\n",
    "    directory. The path to this directory must be specified in the 'pd.read_csv()' call in the code below.\n",
    "    \"\"\"\n",
    "    \n",
    "    def __init__(self):\n",
    "        \n",
    "        # -- LOAD IN TRAINING DATASET FROM HOME CREDIT GROUP -- #\n",
    "        self.df_train = pd.read_csv('/Users/sampence/Documents/IU Bloom/E402 - Computational Methods in Macro/Final Project/home-credit-default-risk/application_train.csv')\n",
    "        \n",
    "        # Convert all binary values to 1 and 0 \n",
    "        mapping = {'Y': 1, 'N': 0, 'M': 1, 'F': 0}\n",
    "        cols = ['CODE_GENDER', 'FLAG_OWN_CAR', 'FLAG_OWN_REALTY']\n",
    "        self.df_train[cols] = self.df_train[cols].applymap(mapping.get)\n",
    "\n",
    "        # Label for targeting\n",
    "        self.label = np.where(self.df_train['TARGET'] == 1, 1, 0)\n",
    "        \n",
    "        # Feature Selection\n",
    "        self.train_features = self.df_train[\n",
    "            ['CNT_CHILDREN','AMT_INCOME_TOTAL','AMT_CREDIT', 'DAYS_BIRTH', 'FLAG_OWN_CAR', 'FLAG_OWN_REALTY',\n",
    "            'CODE_GENDER', 'AMT_GOODS_PRICE']\n",
    "        ]\n",
    "\n",
    "        # Fill null values in each column with median of the column.\n",
    "        for col in self.train_features.columns:\n",
    "            if self.train_features[col].isna().sum() > 0:\n",
    "                self.train_features.loc[:, col] = self.train_features[col].fillna(self.train_features[col].median())\n",
    "            else:\n",
    "                pass\n",
    "        \n",
    "        # Double check for null values after their replacement\n",
    "        for col in self.train_features.columns:\n",
    "            if self.train_features[col].isnull().any():\n",
    "                print(f\"Column {col} contains NaN values.\")\n",
    "            else:\n",
    "                pass\n",
    "            \n",
    "        # Scaling features to Mean = 0 and Std. Dev = 1\n",
    "        scaler = StandardScaler()\n",
    "        self.train_features = scaler.fit_transform(self.train_features)\n",
    "        \n",
    "         # Create a RandomForestClassifier to fit on the training data.\n",
    "        self.model = RandomForestClassifier(n_estimators=100, random_state=40)\n",
    "        \n",
    "        # Split the data into training and validation sets\n",
    "        X_train, X_val, y_train, self.y_val = train_test_split(\n",
    "            self.train_features, self.label, test_size=0.2, random_state=42)\n",
    "\n",
    "        # Train your model on the training set\n",
    "        self.model.fit(X_train, y_train)\n",
    "\n",
    "        # Make predictions on the validation set\n",
    "        self.y_pred = self.model.predict(X_val)\n",
    "\n",
    "        # Evaluate the performance of your model on the validation set\n",
    "        self.accuracy = accuracy_score(self.y_val, self.y_pred)\n",
    "        self.precision = precision_score(self.y_val, self.y_pred)\n",
    "        self.recall = recall_score(self.y_val, self.y_pred)\n",
    "        self.f1 = f1_score(self.y_val, self.y_pred)\n",
    "        self.conf_matrix = confusion_matrix(self.y_val, self.y_pred)\n",
    "\n",
    "        \n",
    "#----------------------------#\n",
    "#---TEST PERFORMANCE---------#\n",
    "#----------------------------#       \n",
    "\n",
    "\n",
    "    def get_validation_results(model, y_val, y_pred):\n",
    "        y_pred = self.y_pred\n",
    "        y_val = self.y_val\n",
    "        results = pd.DataFrame({'actual': y_val, 'predicted': y_pred}, index=X_val.index)\n",
    "        results['is_correct'] = results['actual'] == results['predicted']\n",
    "        return results\n",
    "\n",
    "\n",
    "    def metrics(self):\n",
    "        \"\"\"\n",
    "        Returns a dataframe with the model evaluation metrics.\n",
    "        \"\"\"\n",
    "        # Unpack attributes of self\n",
    "        accuracy, precision, recall, f1 = self.accuracy, self.precision, self.recall, self.f1\n",
    "        \n",
    "        # Create a dictionary with the metric names and their values\n",
    "        metrics_dict = {\n",
    "            'accuracy': accuracy,\n",
    "            'precision': precision,\n",
    "            'recall': recall,\n",
    "            'f1': f1\n",
    "        }\n",
    "    \n",
    "        # Create a dataframe from the metrics dictionary\n",
    "        metrics_df = pd.DataFrame.from_dict(metrics_dict, orient='index', columns=['Value'])\n",
    "    \n",
    "        # Set the index name\n",
    "        metrics_df.index.name = 'Metric'\n",
    "    \n",
    "        # Return the dataframe\n",
    "        return metrics_df  \n",
    "    \n",
    "    \n",
    "    \n",
    "#------------------------------------------------------------------------#\n",
    "#--- EVERYTHING BELOW THIS LINE SHOULD BE USED TO TEST NEW APPLICANTS ---#\n",
    "#------------------------------------------------------------------------#\n",
    "\n",
    "    def predictions(self, df_test):\n",
    "        \"\"\"\n",
    "        Predicts the loan repayment status of a set of loan applicants.\n",
    "\n",
    "        Args:\n",
    "            X_test (pandas.DataFrame): A DataFrame containing the loan applicant information to be predicted.\n",
    "        \n",
    "        Returns:\n",
    "            pandas.DataFrame: A DataFrame of binary predictions for each loan applicant in X_test.\n",
    "        \"\"\"\n",
    "        mapping = {'Y': 1, 'N': 0, 'M': 1, 'F': 0}\n",
    "        cols = ['CODE_GENDER', 'FLAG_OWN_CAR', 'FLAG_OWN_REALTY']\n",
    "        df_test[cols] = df_test[cols].applymap(mapping.get)\n",
    "        df_test = df_test[['CNT_CHILDREN','AMT_INCOME_TOTAL','AMT_CREDIT', 'DAYS_BIRTH', 'FLAG_OWN_CAR', 'FLAG_OWN_REALTY',\n",
    "            'CODE_GENDER', 'AMT_GOODS_PRICE']]\n",
    "\n",
    "        # Feature Selection\n",
    "        test_features = df_test[\n",
    "            ['CNT_CHILDREN','AMT_INCOME_TOTAL','AMT_CREDIT', 'DAYS_BIRTH', 'FLAG_OWN_CAR', 'FLAG_OWN_REALTY',\n",
    "            'CODE_GENDER', 'AMT_GOODS_PRICE']\n",
    "        ]\n",
    "        \n",
    "        # Fill null values in each column with median of the column.\n",
    "        for col in test_features.columns:\n",
    "            if test_features[col].isna().sum() > 0:\n",
    "                test_features.loc[:, col] = test_features[col].fillna(test_features[col].median())\n",
    "            else:\n",
    "                pass\n",
    "        \n",
    "        # Double check for null values after their replacement\n",
    "        for col in test_features.columns:\n",
    "            if test_features[col].isnull().any():\n",
    "                print(f\"Column {col} contains NaN values.\")\n",
    "            else:\n",
    "                pass\n",
    "\n",
    "        # Scaling features to Mean = 0 and Std. Dev = 1\n",
    "        scaler = StandardScaler()\n",
    "        test_features = scaler.fit_transform(test_features)\n",
    "        \n",
    "        # Make predictions on test set\n",
    "        predictions = self.model.predict(test_features)\n",
    "        pred_df = pd.DataFrame(predictions, columns=['Prediction'])\n",
    "        # Return predictions\n",
    "        return pred_df\n",
    "    \n",
    "    def defaults(self, pred_df):\n",
    "        \"\"\"\n",
    "        Filter out loans that are predicted to default.\n",
    "\n",
    "        Args:\n",
    "        -----------\n",
    "        pred_df : pandas.DataFrame\n",
    "            A DataFrame containing loan predictions(obtained by calling 'predict' method), where each row corresponds to a loan and has a\n",
    "            'Prediction' column with values of 0 or 1, indicating whether the loan is predicted to default or not.\n",
    "\n",
    "        Returns:\n",
    "        --------\n",
    "        pandas.DataFrame\n",
    "            A new DataFrame containing only the rows from `pred_df` where 'Prediction' == 1, indicating that the\n",
    "            loan is predicted to default.\n",
    "        \"\"\"\n",
    "\n",
    "        # Check if the input dataframe contains the Prediction column\n",
    "        if 'Prediction' not in pred_df.columns:\n",
    "            raise ValueError(\"Input dataframe does not contain the Prediction column\")\n",
    "            \n",
    "        # Filter out loans that are likely to default\n",
    "        pred_df = pred_df[pred_df['Prediction'] == 1]\n",
    "        \n",
    "        # Return the dataframe of positive predictions\n",
    "        return pred_df\n",
    "    "
   ]
  },
  {
   "cell_type": "code",
   "execution_count": 25,
   "id": "cee57e89",
   "metadata": {
    "scrolled": true
   },
   "outputs": [
    {
     "name": "stdout",
     "output_type": "stream",
     "text": [
      "CPU times: user 48.1 s, sys: 2.04 s, total: 50.1 s\n",
      "Wall time: 50.6 s\n"
     ]
    }
   ],
   "source": [
    "%%time\n",
    "# Instantiate\n",
    "obj = CreditDefaultRF()"
   ]
  },
  {
   "cell_type": "code",
   "execution_count": 8,
   "id": "a2b8c639",
   "metadata": {},
   "outputs": [
    {
     "data": {
      "text/html": [
       "<div>\n",
       "<style scoped>\n",
       "    .dataframe tbody tr th:only-of-type {\n",
       "        vertical-align: middle;\n",
       "    }\n",
       "\n",
       "    .dataframe tbody tr th {\n",
       "        vertical-align: top;\n",
       "    }\n",
       "\n",
       "    .dataframe thead th {\n",
       "        text-align: right;\n",
       "    }\n",
       "</style>\n",
       "<table border=\"1\" class=\"dataframe\">\n",
       "  <thead>\n",
       "    <tr style=\"text-align: right;\">\n",
       "      <th></th>\n",
       "      <th>Value</th>\n",
       "    </tr>\n",
       "    <tr>\n",
       "      <th>Metric</th>\n",
       "      <th></th>\n",
       "    </tr>\n",
       "  </thead>\n",
       "  <tbody>\n",
       "    <tr>\n",
       "      <th>accuracy</th>\n",
       "      <td>0.912866</td>\n",
       "    </tr>\n",
       "    <tr>\n",
       "      <th>precision</th>\n",
       "      <td>0.133929</td>\n",
       "    </tr>\n",
       "    <tr>\n",
       "      <th>recall</th>\n",
       "      <td>0.015155</td>\n",
       "    </tr>\n",
       "    <tr>\n",
       "      <th>f1</th>\n",
       "      <td>0.027228</td>\n",
       "    </tr>\n",
       "  </tbody>\n",
       "</table>\n",
       "</div>"
      ],
      "text/plain": [
       "              Value\n",
       "Metric             \n",
       "accuracy   0.912866\n",
       "precision  0.133929\n",
       "recall     0.015155\n",
       "f1         0.027228"
      ]
     },
     "execution_count": 8,
     "metadata": {},
     "output_type": "execute_result"
    }
   ],
   "source": [
    "# Evaluate performance metrics\n",
    "metrics = obj.metrics()\n",
    "metrics"
   ]
  },
  {
   "cell_type": "code",
   "execution_count": 29,
   "id": "958b29a2",
   "metadata": {},
   "outputs": [
    {
     "name": "stdout",
     "output_type": "stream",
     "text": [
      "[0 0 0 ... 0 0 0]\n",
      "[0 0 0 ... 0 0 0]\n"
     ]
    }
   ],
   "source": [
    "print(obj.y_val)\n",
    "print(obj.y_pred)"
   ]
  },
  {
   "cell_type": "code",
   "execution_count": 9,
   "id": "22eafab0",
   "metadata": {},
   "outputs": [
    {
     "name": "stdout",
     "output_type": "stream",
     "text": [
      "[[56069   485]\n",
      " [ 4874    75]]\n"
     ]
    }
   ],
   "source": [
    "# Show Confusion Matrix\n",
    "x = obj.conf_matrix\n",
    "print(x)"
   ]
  },
  {
   "cell_type": "markdown",
   "id": "53a630fe",
   "metadata": {},
   "source": [
    "This method of the random forest classifier will be used to find viable features for the model."
   ]
  },
  {
   "cell_type": "code",
   "execution_count": 10,
   "id": "60122909",
   "metadata": {
    "scrolled": true
   },
   "outputs": [
    {
     "data": {
      "text/plain": [
       "array([0.02743781, 0.18620601, 0.18933601, 0.45450364, 0.00735648,\n",
       "       0.01281266, 0.00671918, 0.11562822])"
      ]
     },
     "execution_count": 10,
     "metadata": {},
     "output_type": "execute_result"
    }
   ],
   "source": [
    "obj.model.feature_importances_"
   ]
  },
  {
   "cell_type": "code",
   "execution_count": 11,
   "id": "620e477e",
   "metadata": {},
   "outputs": [
    {
     "data": {
      "text/plain": [
       "61503"
      ]
     },
     "execution_count": 11,
     "metadata": {},
     "output_type": "execute_result"
    }
   ],
   "source": [
    "len(obj.y_pred)"
   ]
  },
  {
   "cell_type": "code",
   "execution_count": 15,
   "id": "056af102",
   "metadata": {},
   "outputs": [
    {
     "data": {
      "text/html": [
       "<div>\n",
       "<style scoped>\n",
       "    .dataframe tbody tr th:only-of-type {\n",
       "        vertical-align: middle;\n",
       "    }\n",
       "\n",
       "    .dataframe tbody tr th {\n",
       "        vertical-align: top;\n",
       "    }\n",
       "\n",
       "    .dataframe thead th {\n",
       "        text-align: right;\n",
       "    }\n",
       "</style>\n",
       "<table border=\"1\" class=\"dataframe\">\n",
       "  <thead>\n",
       "    <tr style=\"text-align: right;\">\n",
       "      <th></th>\n",
       "      <th>Prediction</th>\n",
       "    </tr>\n",
       "  </thead>\n",
       "  <tbody>\n",
       "    <tr>\n",
       "      <th>0</th>\n",
       "      <td>0</td>\n",
       "    </tr>\n",
       "    <tr>\n",
       "      <th>1</th>\n",
       "      <td>0</td>\n",
       "    </tr>\n",
       "    <tr>\n",
       "      <th>2</th>\n",
       "      <td>0</td>\n",
       "    </tr>\n",
       "    <tr>\n",
       "      <th>3</th>\n",
       "      <td>0</td>\n",
       "    </tr>\n",
       "    <tr>\n",
       "      <th>4</th>\n",
       "      <td>0</td>\n",
       "    </tr>\n",
       "    <tr>\n",
       "      <th>...</th>\n",
       "      <td>...</td>\n",
       "    </tr>\n",
       "    <tr>\n",
       "      <th>48739</th>\n",
       "      <td>0</td>\n",
       "    </tr>\n",
       "    <tr>\n",
       "      <th>48740</th>\n",
       "      <td>0</td>\n",
       "    </tr>\n",
       "    <tr>\n",
       "      <th>48741</th>\n",
       "      <td>0</td>\n",
       "    </tr>\n",
       "    <tr>\n",
       "      <th>48742</th>\n",
       "      <td>0</td>\n",
       "    </tr>\n",
       "    <tr>\n",
       "      <th>48743</th>\n",
       "      <td>0</td>\n",
       "    </tr>\n",
       "  </tbody>\n",
       "</table>\n",
       "<p>48744 rows × 1 columns</p>\n",
       "</div>"
      ],
      "text/plain": [
       "       Prediction\n",
       "0               0\n",
       "1               0\n",
       "2               0\n",
       "3               0\n",
       "4               0\n",
       "...           ...\n",
       "48739           0\n",
       "48740           0\n",
       "48741           0\n",
       "48742           0\n",
       "48743           0\n",
       "\n",
       "[48744 rows x 1 columns]"
      ]
     },
     "execution_count": 15,
     "metadata": {},
     "output_type": "execute_result"
    }
   ],
   "source": [
    "# Predict\n",
    "df_test = pd.read_csv('/Users/sampence/Documents/IU Bloom/E402 - Computational Methods in Macro/Final Project/home-credit-default-risk/application_test.csv')\n",
    "predictions = obj.predictions(df_test)\n",
    "predictions"
   ]
  },
  {
   "cell_type": "code",
   "execution_count": 14,
   "id": "92178b2a",
   "metadata": {},
   "outputs": [
    {
     "data": {
      "text/plain": [
       "157"
      ]
     },
     "execution_count": 14,
     "metadata": {},
     "output_type": "execute_result"
    }
   ],
   "source": [
    "# Filter out bad loans\n",
    "positives = obj.defaults(predictions)\n",
    "len(positives)"
   ]
  },
  {
   "cell_type": "code",
   "execution_count": null,
   "id": "7c5b622c",
   "metadata": {},
   "outputs": [],
   "source": []
  }
 ],
 "metadata": {
  "kernelspec": {
   "display_name": "Python 3 (ipykernel)",
   "language": "python",
   "name": "python3"
  },
  "language_info": {
   "codemirror_mode": {
    "name": "ipython",
    "version": 3
   },
   "file_extension": ".py",
   "mimetype": "text/x-python",
   "name": "python",
   "nbconvert_exporter": "python",
   "pygments_lexer": "ipython3",
   "version": "3.9.7"
  }
 },
 "nbformat": 4,
 "nbformat_minor": 5
}
