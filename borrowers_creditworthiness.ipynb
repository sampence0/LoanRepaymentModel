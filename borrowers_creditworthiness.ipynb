{
 "cells": [
  {
   "cell_type": "markdown",
   "id": "beca88c3",
   "metadata": {},
   "source": [
    "# E402 Final Project"
   ]
  },
  {
   "cell_type": "markdown",
   "id": "596f2075",
   "metadata": {},
   "source": [
    "This Machine Learning model takes borrower characteristics into account on a credit application and predicts whether or not the applicant will default on their loan. The model is trained/tested on a dataset of 307k+ instances, using features including but not limited to: Gender, Income, Realty Status, and more."
   ]
  },
  {
   "cell_type": "code",
   "execution_count": 1,
   "id": "da6fb677",
   "metadata": {},
   "outputs": [
    {
     "name": "stdout",
     "output_type": "stream",
     "text": [
      "CPU times: user 3 µs, sys: 1 µs, total: 4 µs\n",
      "Wall time: 5.72 µs\n"
     ]
    }
   ],
   "source": [
    "import pandas as pd\n",
    "import numpy as np\n",
    "import math\n",
    "from sklearn.preprocessing import StandardScaler\n",
    "from sklearn.ensemble import RandomForestClassifier\n",
    "from sklearn.metrics import accuracy_score, confusion_matrix\n",
    "from sklearn.metrics import precision_recall_fscore_support"
   ]
  },
  {
   "cell_type": "code",
   "execution_count": 58,
   "id": "b333a939",
   "metadata": {
    "scrolled": true
   },
   "outputs": [
    {
     "name": "stdout",
     "output_type": "stream",
     "text": [
      "       CODE_GENDER  FLAG_OWN_CAR  FLAG_OWN_REALTY  CNT_CHILDREN  \\\n",
      "0                0             0                1             0   \n",
      "1                1             0                1             0   \n",
      "2                1             1                1             0   \n",
      "3                0             0                1             2   \n",
      "4                1             1                0             1   \n",
      "...            ...           ...              ...           ...   \n",
      "48739            0             0                1             0   \n",
      "48740            0             0                0             2   \n",
      "48741            0             1                1             1   \n",
      "48742            1             0                0             0   \n",
      "48743            0             1                0             0   \n",
      "\n",
      "       AMT_INCOME_TOTAL  AMT_CREDIT  \n",
      "0              135000.0    568800.0  \n",
      "1               99000.0    222768.0  \n",
      "2              202500.0    663264.0  \n",
      "3              315000.0   1575000.0  \n",
      "4              180000.0    625500.0  \n",
      "...                 ...         ...  \n",
      "48739          121500.0    412560.0  \n",
      "48740          157500.0    622413.0  \n",
      "48741          202500.0    315000.0  \n",
      "48742          225000.0    450000.0  \n",
      "48743          135000.0    312768.0  \n",
      "\n",
      "[48744 rows x 6 columns]\n"
     ]
    }
   ],
   "source": [
    "df_test = pd.read_csv('/Users/sampence/Documents/IU Bloom/E402 - Computational Methods in Macro/Final Project/home-credit-default-risk/application_test.csv')\n",
    "df_test = df_test[['CODE_GENDER','FLAG_OWN_CAR','FLAG_OWN_REALTY','CNT_CHILDREN','AMT_INCOME_TOTAL','AMT_CREDIT']]\n",
    "df_train = pd.read_csv('/Users/sampence/Documents/IU Bloom/E402 - Computational Methods in Macro/Final Project/home-credit-default-risk/application_train.csv')\n",
    "\n",
    "\n",
    "mapping = {'Y': 1, 'N': 0, 'M': 1, 'F': 0}\n",
    "cols = ['CODE_GENDER', 'FLAG_OWN_CAR', 'FLAG_OWN_REALTY']\n",
    "df_test[cols] = df_test[cols].applymap(mapping.get)\n",
    "df_test = df_test[['CODE_GENDER','FLAG_OWN_CAR','FLAG_OWN_REALTY','CNT_CHILDREN','AMT_INCOME_TOTAL','AMT_CREDIT']]\n",
    "\n",
    "boolean = df_test.isna()\n",
    "true_rows = boolean[boolean.any(axis=1)]\n",
    "print(df_test)"
   ]
  },
  {
   "cell_type": "code",
   "execution_count": 60,
   "id": "5ff971b5",
   "metadata": {},
   "outputs": [
    {
     "name": "stdout",
     "output_type": "stream",
     "text": [
      "CPU times: user 3 µs, sys: 2 µs, total: 5 µs\n",
      "Wall time: 8.11 µs\n"
     ]
    }
   ],
   "source": [
    "class CreditDefault():\n",
    "    \"\"\"\n",
    "    This class takes 5 or 6 features from a loan applicant and uses a machine learning model trained on close to \n",
    "    307,000 entries. This model will make a prediction of whether or not the credit applicant is likely to repay\n",
    "    their loans.\n",
    "    \"\"\"\n",
    "    \n",
    "    def __init__(self):\n",
    "        \n",
    "        # Load in training dataset from Home Credit Group\n",
    "        self.df_train = pd.read_csv('/Users/sampence/Documents/IU Bloom/E402 - Computational Methods in Macro/Final Project/home-credit-default-risk/application_train.csv')\n",
    "        \n",
    "        # Convert all binary values to 1 and 0 \n",
    "        mapping = {'Y': 1, 'N': 0, 'M': 1, 'F': 0}\n",
    "        cols = ['CODE_GENDER', 'FLAG_OWN_CAR', 'FLAG_OWN_REALTY']\n",
    "        self.df_train[cols] = self.df_train[cols].applymap(mapping.get)\n",
    "\n",
    "        # Label for targeting\n",
    "        self.label = np.where(self.df_train['TARGET'] == 1, 'PAYMENT TROUBLES', 'PAID OFF')\n",
    "        \n",
    "        # Feature Selection\n",
    "        self.train_features = self.df_train[['CODE_GENDER','FLAG_OWN_CAR','FLAG_OWN_REALTY','CNT_CHILDREN','AMT_INCOME_TOTAL','AMT_CREDIT']]\n",
    "        # -- Fill NA values in gender with median value [0] -- #\n",
    "        self.train_features.loc[[35657, 38566, 83382, 189640], 'CODE_GENDER'] = 0\n",
    "        \n",
    "        # Scaling features to Mean = 0 and Std. Dev = 1\n",
    "        scaler = StandardScaler()\n",
    "        self.train_features = scaler.fit_transform(self.train_features)\n",
    "        \n",
    "        # Create a RandomForestClassifier to fit on the training data.\n",
    "        self.model = RandomForestClassifier(n_estimators=10, random_state=40)\n",
    "        self.model.fit(self.train_features, self.label)\n",
    "        \n",
    "    def predict(self, X_test):\n",
    "        \"\"\"\n",
    "        Predicts the loan repayment status of a set of loan applicants.\n",
    "\n",
    "        Args:\n",
    "            X_test (pandas.DataFrame): A DataFrame containing the loan applicant information to be predicted.\n",
    "        \n",
    "        Returns:\n",
    "            numpy.ndarray: An array of binary predictions for each loan applicant in X_test.\n",
    "        \"\"\"\n",
    "        \n",
    "        # Feature Selection\n",
    "        self.test_features = X_test[['CODE_GENDER','FLAG_OWN_CAR','FLAG_OWN_REALTY','CNT_CHILDREN','AMT_INCOME_TOTAL','AMT_CREDIT']]\n",
    "\n",
    "        # Scaling features to Mean = 0 and Std. Dev = 1\n",
    "        scaler = StandardScaler()\n",
    "        self.test_features = scaler.fit_transform(self.test_features)\n",
    "        \n",
    "        # Make predictions on test set\n",
    "        self.predictions = self.model.predict(self.test_features)\n",
    "        \n",
    "        # Return predictions\n",
    "        return self.predictions\n",
    "\n",
    "%time"
   ]
  },
  {
   "cell_type": "code",
   "execution_count": 61,
   "id": "1cbfe3a6",
   "metadata": {},
   "outputs": [
    {
     "name": "stdout",
     "output_type": "stream",
     "text": [
      "['PAID OFF' 'PAID OFF' 'PAID OFF' ... 'PAID OFF' 'PAID OFF' 'PAID OFF']\n",
      "CPU times: user 2 µs, sys: 0 ns, total: 2 µs\n",
      "Wall time: 5.96 µs\n"
     ]
    }
   ],
   "source": [
    "obj = CreditDefault()\n",
    "predictions = obj.predict(df_test)\n",
    "print(predictions)\n",
    "%time"
   ]
  },
  {
   "cell_type": "code",
   "execution_count": 62,
   "id": "3646683f",
   "metadata": {},
   "outputs": [
    {
     "data": {
      "text/plain": [
       "numpy.ndarray"
      ]
     },
     "execution_count": 62,
     "metadata": {},
     "output_type": "execute_result"
    }
   ],
   "source": [
    "type(predictions)"
   ]
  },
  {
   "cell_type": "code",
   "execution_count": 64,
   "id": "d2d8d09c",
   "metadata": {},
   "outputs": [
    {
     "data": {
      "text/html": [
       "<div>\n",
       "<style scoped>\n",
       "    .dataframe tbody tr th:only-of-type {\n",
       "        vertical-align: middle;\n",
       "    }\n",
       "\n",
       "    .dataframe tbody tr th {\n",
       "        vertical-align: top;\n",
       "    }\n",
       "\n",
       "    .dataframe thead th {\n",
       "        text-align: right;\n",
       "    }\n",
       "</style>\n",
       "<table border=\"1\" class=\"dataframe\">\n",
       "  <thead>\n",
       "    <tr style=\"text-align: right;\">\n",
       "      <th></th>\n",
       "      <th>prediction</th>\n",
       "    </tr>\n",
       "  </thead>\n",
       "  <tbody>\n",
       "    <tr>\n",
       "      <th>17</th>\n",
       "      <td>PAYMENT TROUBLES</td>\n",
       "    </tr>\n",
       "    <tr>\n",
       "      <th>111</th>\n",
       "      <td>PAYMENT TROUBLES</td>\n",
       "    </tr>\n",
       "    <tr>\n",
       "      <th>175</th>\n",
       "      <td>PAYMENT TROUBLES</td>\n",
       "    </tr>\n",
       "    <tr>\n",
       "      <th>185</th>\n",
       "      <td>PAYMENT TROUBLES</td>\n",
       "    </tr>\n",
       "    <tr>\n",
       "      <th>199</th>\n",
       "      <td>PAYMENT TROUBLES</td>\n",
       "    </tr>\n",
       "    <tr>\n",
       "      <th>...</th>\n",
       "      <td>...</td>\n",
       "    </tr>\n",
       "    <tr>\n",
       "      <th>48432</th>\n",
       "      <td>PAYMENT TROUBLES</td>\n",
       "    </tr>\n",
       "    <tr>\n",
       "      <th>48600</th>\n",
       "      <td>PAYMENT TROUBLES</td>\n",
       "    </tr>\n",
       "    <tr>\n",
       "      <th>48636</th>\n",
       "      <td>PAYMENT TROUBLES</td>\n",
       "    </tr>\n",
       "    <tr>\n",
       "      <th>48695</th>\n",
       "      <td>PAYMENT TROUBLES</td>\n",
       "    </tr>\n",
       "    <tr>\n",
       "      <th>48707</th>\n",
       "      <td>PAYMENT TROUBLES</td>\n",
       "    </tr>\n",
       "  </tbody>\n",
       "</table>\n",
       "<p>1196 rows × 1 columns</p>\n",
       "</div>"
      ],
      "text/plain": [
       "             prediction\n",
       "17     PAYMENT TROUBLES\n",
       "111    PAYMENT TROUBLES\n",
       "175    PAYMENT TROUBLES\n",
       "185    PAYMENT TROUBLES\n",
       "199    PAYMENT TROUBLES\n",
       "...                 ...\n",
       "48432  PAYMENT TROUBLES\n",
       "48600  PAYMENT TROUBLES\n",
       "48636  PAYMENT TROUBLES\n",
       "48695  PAYMENT TROUBLES\n",
       "48707  PAYMENT TROUBLES\n",
       "\n",
       "[1196 rows x 1 columns]"
      ]
     },
     "execution_count": 64,
     "metadata": {},
     "output_type": "execute_result"
    }
   ],
   "source": [
    "# 'predictions' is a numpy array: Change to pandas DataFrame\n",
    "df_predictions = pd.DataFrame({'prediction': predictions})\n",
    "\n",
    "# Keep the rows where prediction is 1:\n",
    "df_predictions_payment_troubles = df_predictions[df_predictions['prediction'] == 'PAYMENT TROUBLES']\n",
    "\n",
    "df_predictions_payment_troubles"
   ]
  },
  {
   "cell_type": "code",
   "execution_count": null,
   "id": "cee57e89",
   "metadata": {},
   "outputs": [],
   "source": []
  }
 ],
 "metadata": {
  "kernelspec": {
   "display_name": "Python 3 (ipykernel)",
   "language": "python",
   "name": "python3"
  },
  "language_info": {
   "codemirror_mode": {
    "name": "ipython",
    "version": 3
   },
   "file_extension": ".py",
   "mimetype": "text/x-python",
   "name": "python",
   "nbconvert_exporter": "python",
   "pygments_lexer": "ipython3",
   "version": "3.9.7"
  }
 },
 "nbformat": 4,
 "nbformat_minor": 5
}
