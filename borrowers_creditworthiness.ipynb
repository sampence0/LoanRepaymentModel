{
 "cells": [
  {
   "cell_type": "markdown",
   "id": "beca88c3",
   "metadata": {},
   "source": [
    "# E402 Final Project"
   ]
  },
  {
   "cell_type": "markdown",
   "id": "596f2075",
   "metadata": {},
   "source": [
    "This Machine Learning model takes borrower characteristics into account on a credit application and predicts whether or not the applicant will default on their loan. The model is trained/tested on a dataset of 307k+ instances, using features including but not limited to: Amount of Credit, Income, Realty Status, and more."
   ]
  },
  {
   "cell_type": "code",
   "execution_count": 56,
   "id": "da6fb677",
   "metadata": {},
   "outputs": [],
   "source": [
    "import pandas as pd\n",
    "import numpy as np\n",
    "import math\n",
    "from sklearn.preprocessing import StandardScaler\n",
    "from sklearn.ensemble import RandomForestClassifier\n",
    "from sklearn.model_selection import train_test_split\n",
    "from sklearn.metrics import accuracy_score, confusion_matrix, precision_score, recall_score, f1_score"
   ]
  },
  {
   "cell_type": "code",
   "execution_count": 57,
   "id": "5ff971b5",
   "metadata": {},
   "outputs": [
    {
     "name": "stdout",
     "output_type": "stream",
     "text": [
      "CPU times: user 5 µs, sys: 5 µs, total: 10 µs\n",
      "Wall time: 8.11 µs\n"
     ]
    }
   ],
   "source": [
    "class CreditDefaultRF():\n",
    "    \"\"\"\n",
    "    Upon initialization, this class trains a Random Forest Classifier on a dataset of 200,000+ loan applicants from \n",
    "    Home Credit Group. The model will train on 6 features: Gender, Car Ownership, Realty Status, Number of Children,\n",
    "    Income and Amount of Credit. \n",
    "    \n",
    "     NOTE: Before using this class, you must download the dataset from the Home Credit Default Risk Kaggle competition\n",
    "    (https://www.kaggle.com/c/home-credit-default-risk/data) and place the 'application_train.csv' file in a local\n",
    "    directory. The path to this directory must be specified in the 'pd.read_csv()' call in the code below.\n",
    "    \"\"\"\n",
    "    \n",
    "    def __init__(self):\n",
    "        \n",
    "        # Load in training dataset from Home Credit Group\n",
    "        self.df_train = pd.read_csv('/Users/sampence/Documents/IU Bloom/E402 - Computational Methods in Macro/Final Project/home-credit-default-risk/application_train.csv')\n",
    "        \n",
    "        # Convert all binary values to 1 and 0 \n",
    "        mapping = {'Y': 1, 'N': 0, 'M': 1, 'F': 0}\n",
    "        cols = ['CODE_GENDER', 'FLAG_OWN_CAR', 'FLAG_OWN_REALTY']\n",
    "        self.df_train[cols] = self.df_train[cols].applymap(mapping.get)\n",
    "\n",
    "        # Label for targeting\n",
    "        self.label = np.where(self.df_train['TARGET'] == 1, 1, 0)\n",
    "        \n",
    "        # Feature Selection\n",
    "        self.train_features = self.df_train[\n",
    "            ['CODE_GENDER','FLAG_OWN_CAR','FLAG_OWN_REALTY','CNT_CHILDREN','AMT_INCOME_TOTAL','AMT_CREDIT']\n",
    "        ]\n",
    "        # -- Fill NA values in gender with median value [0] -- #\n",
    "        self.train_features.loc[[35657, 38566, 83382, 189640], 'CODE_GENDER'] = 0\n",
    "        \n",
    "        # Scaling features to Mean = 0 and Std. Dev = 1\n",
    "        scaler = StandardScaler()\n",
    "        self.train_features = scaler.fit_transform(self.train_features)\n",
    "        \n",
    "         # Create a RandomForestClassifier to fit on the training data.\n",
    "        self.model = RandomForestClassifier(n_estimators=10, random_state=40)\n",
    "        \n",
    "        # Split the data into training and validation sets\n",
    "        X_train, X_val, y_train, y_val = train_test_split(\n",
    "            self.train_features, self.label, test_size=0.3, random_state=42)\n",
    "\n",
    "        # Train your model on the training set\n",
    "        self.model.fit(X_train, y_train)\n",
    "\n",
    "        # Make predictions on the validation set\n",
    "        self.y_pred = self.model.predict(X_val)\n",
    "\n",
    "        # Evaluate the performance of your model on the validation set\n",
    "        self.accuracy = accuracy_score(y_val, self.y_pred)\n",
    "        self.precision = precision_score(y_val, self.y_pred)\n",
    "        self.recall = recall_score(y_val, self.y_pred)\n",
    "        self.f1 = f1_score(y_val, self.y_pred)\n",
    "        self.conf_matrix = confusion_matrix(y_val, self.y_pred)\n",
    "\n",
    "        \n",
    "    def predict(self, df_test):\n",
    "        \"\"\"\n",
    "        Predicts the loan repayment status of a set of loan applicants.\n",
    "\n",
    "        Args:\n",
    "            X_test (pandas.DataFrame): A DataFrame containing the loan applicant information to be predicted.\n",
    "        \n",
    "        Returns:\n",
    "            pandas.DataFrame: A DataFrame of binary predictions for each loan applicant in X_test.\n",
    "        \"\"\"\n",
    "        mapping = {'Y': 1, 'N': 0, 'M': 1, 'F': 0}\n",
    "        cols = ['CODE_GENDER', 'FLAG_OWN_CAR', 'FLAG_OWN_REALTY']\n",
    "        df_test[cols] = df_test[cols].applymap(mapping.get)\n",
    "        df_test = df_test[['CODE_GENDER','FLAG_OWN_CAR','FLAG_OWN_REALTY','CNT_CHILDREN','AMT_INCOME_TOTAL','AMT_CREDIT']]\n",
    "\n",
    "        # Feature Selection\n",
    "        test_features = df_test[['CODE_GENDER','FLAG_OWN_CAR','FLAG_OWN_REALTY','CNT_CHILDREN','AMT_INCOME_TOTAL','AMT_CREDIT']]\n",
    "\n",
    "        # Scaling features to Mean = 0 and Std. Dev = 1\n",
    "        scaler = StandardScaler()\n",
    "        test_features = scaler.fit_transform(test_features)\n",
    "        \n",
    "        # Make predictions on test set\n",
    "        predictions = self.model.predict(test_features)\n",
    "        pred_df = pd.DataFrame(predictions, columns=['Prediction'])\n",
    "        # Return predictions\n",
    "        return pred_df\n",
    "\n",
    "%time"
   ]
  },
  {
   "cell_type": "code",
   "execution_count": 58,
   "id": "cee57e89",
   "metadata": {
    "scrolled": true
   },
   "outputs": [
    {
     "name": "stdout",
     "output_type": "stream",
     "text": [
      "CPU times: user 2 µs, sys: 1e+03 ns, total: 3 µs\n",
      "Wall time: 5.25 µs\n"
     ]
    },
    {
     "data": {
      "text/plain": [
       "array([[ 1.38817559, -0.71791354,  0.66453139, -0.57753784,  0.14212925,\n",
       "        -0.47809496],\n",
       "       [-0.72036996, -0.71791354, -1.5048198 , -0.57753784,  0.42679193,\n",
       "         1.7254498 ],\n",
       "       [ 1.38817559,  1.39292539,  0.66453139, -0.57753784, -0.4271961 ,\n",
       "        -1.15288792],\n",
       "       ...,\n",
       "       [-0.72036996, -0.71791354,  0.66453139, -0.57753784, -0.06662338,\n",
       "         0.19537871],\n",
       "       [-0.72036996, -0.71791354,  0.66453139, -0.57753784,  0.00928667,\n",
       "        -0.56875681],\n",
       "       [-0.72036996, -0.71791354, -1.5048198 , -0.57753784, -0.04764587,\n",
       "         0.18875991]])"
      ]
     },
     "execution_count": 58,
     "metadata": {},
     "output_type": "execute_result"
    }
   ],
   "source": [
    "# Instantiate\n",
    "obj = CreditDefaultRF()\n",
    "#print(obj.accuracy)\n",
    "%time\n",
    "\n",
    "obj.train_features"
   ]
  },
  {
   "cell_type": "code",
   "execution_count": 59,
   "id": "056af102",
   "metadata": {},
   "outputs": [
    {
     "name": "stdout",
     "output_type": "stream",
     "text": [
      "       Prediction\n",
      "89              1\n",
      "111             1\n",
      "119             1\n",
      "124             1\n",
      "129             1\n",
      "...           ...\n",
      "48655           1\n",
      "48665           1\n",
      "48695           1\n",
      "48707           1\n",
      "48734           1\n",
      "\n",
      "[1243 rows x 1 columns]\n"
     ]
    }
   ],
   "source": [
    "# Predict\n",
    "df_test = pd.read_csv('/Users/sampence/Documents/IU Bloom/E402 - Computational Methods in Macro/Final Project/home-credit-default-risk/application_test.csv')\n",
    "df_test = df_test[['CODE_GENDER','FLAG_OWN_CAR','FLAG_OWN_REALTY','CNT_CHILDREN','AMT_INCOME_TOTAL','AMT_CREDIT']]\n",
    "predictions = obj.predict(df_test)\n",
    "\n",
    "# Filter out bad loans\n",
    "predictions = predictions[predictions['Prediction'] == 1]\n",
    "print(predictions)"
   ]
  }
 ],
 "metadata": {
  "kernelspec": {
   "display_name": "Python 3 (ipykernel)",
   "language": "python",
   "name": "python3"
  },
  "language_info": {
   "codemirror_mode": {
    "name": "ipython",
    "version": 3
   },
   "file_extension": ".py",
   "mimetype": "text/x-python",
   "name": "python",
   "nbconvert_exporter": "python",
   "pygments_lexer": "ipython3",
   "version": "3.9.7"
  }
 },
 "nbformat": 4,
 "nbformat_minor": 5
}
